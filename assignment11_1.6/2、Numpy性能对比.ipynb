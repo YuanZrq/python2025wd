{
 "cells": [
  {
   "metadata": {},
   "cell_type": "markdown",
   "source": "# 2、完成Numpy的数组和原生python的性能对比",
   "id": "663b5970ff0f6100"
  },
  {
   "metadata": {
    "ExecuteTime": {
     "end_time": "2025-01-12T09:34:47.858948Z",
     "start_time": "2025-01-12T09:34:46.159993Z"
    }
   },
   "cell_type": "code",
   "source": [
    "import random\n",
    "import time\n",
    "import numpy as np\n",
    "\n",
    "#随机1千万个数据\n",
    "a = []\n",
    "for i in range(10000000):\n",
    "    a.append(random.random())\n",
    "print('随机完毕')\n",
    "b = np.array(a)  # 转换为ndarray\n",
    "print('转换完毕')\n",
    "#ndarray的计算效率优于python的list\n",
    "t1 = time.time()\n",
    "sum1 = sum(a)\n",
    "t2 = time.time()\n",
    "\n",
    "t4 = time.time()\n",
    "sum3 = np.sum(b)\n",
    "t5 = time.time()\n",
    "print(f'原生python:{t2 - t1},numpy:{t5 - t4}')"
   ],
   "id": "f84137dea42d7c0b",
   "outputs": [
    {
     "name": "stdout",
     "output_type": "stream",
     "text": [
      "随机完毕\n",
      "转换完毕\n",
      "原生python:0.06184577941894531,numpy:0.0129547119140625\n"
     ]
    }
   ],
   "execution_count": 5
  }
 ],
 "metadata": {
  "kernelspec": {
   "display_name": "Python 3",
   "language": "python",
   "name": "python3"
  },
  "language_info": {
   "codemirror_mode": {
    "name": "ipython",
    "version": 2
   },
   "file_extension": ".py",
   "mimetype": "text/x-python",
   "name": "python",
   "nbconvert_exporter": "python",
   "pygments_lexer": "ipython2",
   "version": "2.7.6"
  }
 },
 "nbformat": 4,
 "nbformat_minor": 5
}
