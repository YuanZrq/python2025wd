{
 "cells": [
  {
   "metadata": {},
   "cell_type": "markdown",
   "source": "# 3、Numpy的ndarray的一维，二维的操作，常用属性，形状调整，与python list的互相转换",
   "id": "282c55362fe84204"
  },
  {
   "metadata": {},
   "cell_type": "markdown",
   "source": "## ndarray和list的互相转换",
   "id": "7bafc5c156571602"
  },
  {
   "metadata": {
    "ExecuteTime": {
     "end_time": "2025-01-12T09:38:43.528443Z",
     "start_time": "2025-01-12T09:38:43.523756Z"
    }
   },
   "cell_type": "code",
   "source": [
    "import numpy as np\n",
    "\n",
    "list1 = [1, 2, 3, 4]\n",
    "print(list1)\n",
    "print(type(list1))\n",
    "oneArray = np.array(list1)\n",
    "print(type(oneArray))  #类型是ndarray\n",
    "print(oneArray)"
   ],
   "id": "99070623564bcddd",
   "outputs": [
    {
     "name": "stdout",
     "output_type": "stream",
     "text": [
      "[1, 2, 3, 4]\n",
      "<class 'list'>\n",
      "<class 'numpy.ndarray'>\n",
      "[1 2 3 4]\n"
     ]
    }
   ],
   "execution_count": 5
  },
  {
   "metadata": {
    "ExecuteTime": {
     "end_time": "2025-01-12T09:38:42.340862Z",
     "start_time": "2025-01-12T09:38:42.336243Z"
    }
   },
   "cell_type": "code",
   "source": [
    "a = np.array([9, 12, 88, 14, 25])\n",
    "print(type(a))\n",
    "list_a = a.tolist()\n",
    "print(list_a)\n",
    "print(type(list_a))"
   ],
   "id": "4ee7755e12cb638e",
   "outputs": [
    {
     "name": "stdout",
     "output_type": "stream",
     "text": [
      "<class 'numpy.ndarray'>\n",
      "[9, 12, 88, 14, 25]\n",
      "<class 'list'>\n"
     ]
    }
   ],
   "execution_count": 4
  },
  {
   "metadata": {},
   "cell_type": "markdown",
   "source": "## 常用属性",
   "id": "e2cc2d5c37428497"
  },
  {
   "metadata": {
    "ExecuteTime": {
     "end_time": "2025-01-12T09:37:38.190628Z",
     "start_time": "2025-01-12T09:37:38.186197Z"
    }
   },
   "cell_type": "code",
   "source": [
    "#看ndarray的各种属性\n",
    "list2 = [[1, 2], [3, 4], [5, 6]]\n",
    "\n",
    "twoArray = np.array(list2)\n",
    "# 获取数组的维度( 注意： 与函数的参数很像) \n",
    "print(twoArray.ndim)\n",
    "\n",
    "# 形状（行，列） (0 axis,1 axis)\n",
    "print(twoArray.shape)\n",
    "\n",
    "# 有多少个元素\n",
    "print(twoArray.size)\n",
    "# 数据类型\n",
    "print(twoArray.dtype)  #默认int32,4个字节，数据范围 -21亿到21亿"
   ],
   "id": "62726bb859e18c49",
   "outputs": [
    {
     "name": "stdout",
     "output_type": "stream",
     "text": [
      "2\n",
      "(3, 2)\n",
      "6\n",
      "int64\n"
     ]
    }
   ],
   "execution_count": 3
  },
  {
   "metadata": {},
   "cell_type": "markdown",
   "source": "## 调整数组的形状",
   "id": "6cf28b9851a8e21c"
  },
  {
   "metadata": {
    "ExecuteTime": {
     "end_time": "2025-01-12T09:40:10.662438Z",
     "start_time": "2025-01-12T09:40:10.653154Z"
    }
   },
   "cell_type": "code",
   "source": [
    "four = np.array([[1, 2, 3], [4, 5, 6]])\n",
    "print(four)\n",
    "four1 = four\n",
    "print(id(four))\n",
    "four.shape = (3, 2)  # 改变形状\n",
    "# shape修改的是原有的\n",
    "print(id(four))\n",
    "print(id(four1))\n",
    "print(four)\n",
    "print('-' * 50)\n",
    "# 返回一个新的数组，reshape后id和之前的不一样\n",
    "four2 = four.reshape(2, 3)\n",
    "print(four)\n",
    "print(id(four))\n",
    "print(id(four2))\n",
    "four2"
   ],
   "id": "bbb83fb335403133",
   "outputs": [
    {
     "name": "stdout",
     "output_type": "stream",
     "text": [
      "[[1 2 3]\n",
      " [4 5 6]]\n",
      "1648191457296\n",
      "1648191457296\n",
      "1648191457296\n",
      "[[1 2]\n",
      " [3 4]\n",
      " [5 6]]\n",
      "--------------------------------------------------\n",
      "[[1 2]\n",
      " [3 4]\n",
      " [5 6]]\n",
      "1648191457296\n",
      "1648191455376\n"
     ]
    },
    {
     "data": {
      "text/plain": [
       "array([[1, 2, 3],\n",
       "       [4, 5, 6]])"
      ]
     },
     "execution_count": 6,
     "metadata": {},
     "output_type": "execute_result"
    }
   ],
   "execution_count": 6
  },
  {
   "metadata": {},
   "cell_type": "markdown",
   "source": "## 一维、二维操作",
   "id": "269119a0efdb9403"
  },
  {
   "metadata": {
    "ExecuteTime": {
     "end_time": "2025-01-12T09:44:56.862038Z",
     "start_time": "2025-01-12T09:44:56.856527Z"
    }
   },
   "cell_type": "code",
   "source": [
    "# 将多维变成一维数组\n",
    "five = four.reshape((6,), order='C')\n",
    "print(five)\n",
    "print('-' * 50)\n",
    "five = four.reshape((6,), order='F')\n",
    "print(five)\n",
    "print('-' * 50)\n",
    "# 默认情况下‘C’以行为主的顺序展开，‘F’（Fortran风格）意味着以列的顺序展开\n",
    "six = four.flatten()  # 展开成一维数组\n",
    "print(six)"
   ],
   "id": "7533999035c9ed7d",
   "outputs": [
    {
     "name": "stdout",
     "output_type": "stream",
     "text": [
      "[1 2 3 4 5 6]\n",
      "--------------------------------------------------\n",
      "[1 3 5 2 4 6]\n",
      "--------------------------------------------------\n",
      "[1 2 3 4 5 6]\n"
     ]
    }
   ],
   "execution_count": 11
  },
  {
   "metadata": {
    "ExecuteTime": {
     "end_time": "2025-01-12T09:46:40.857224Z",
     "start_time": "2025-01-12T09:46:40.852719Z"
    }
   },
   "cell_type": "code",
   "source": [
    "# 拓展：数组的形状\n",
    "t = np.arange(24)  #和列表的range函数一样，生成一个数组\n",
    "print(t)\n",
    "print(f'shape{t.shape}')\n",
    "print(t.ndim)"
   ],
   "id": "d4241cce87bce734",
   "outputs": [
    {
     "name": "stdout",
     "output_type": "stream",
     "text": [
      "[ 0  1  2  3  4  5  6  7  8  9 10 11 12 13 14 15 16 17 18 19 20 21 22 23]\n",
      "shape(24,)\n",
      "1\n"
     ]
    }
   ],
   "execution_count": 17
  },
  {
   "metadata": {
    "ExecuteTime": {
     "end_time": "2025-01-12T09:47:00.202301Z",
     "start_time": "2025-01-12T09:47:00.198064Z"
    }
   },
   "cell_type": "code",
   "source": [
    "# 转换成二维\n",
    "t1 = t.reshape((4, 6))\n",
    "print(t1)\n",
    "print(t1.shape)"
   ],
   "id": "adfb38bab0588124",
   "outputs": [
    {
     "name": "stdout",
     "output_type": "stream",
     "text": [
      "[[ 0  1  2  3  4  5]\n",
      " [ 6  7  8  9 10 11]\n",
      " [12 13 14 15 16 17]\n",
      " [18 19 20 21 22 23]]\n",
      "(4, 6)\n"
     ]
    }
   ],
   "execution_count": 18
  },
  {
   "metadata": {
    "ExecuteTime": {
     "end_time": "2025-01-12T09:47:36.045197Z",
     "start_time": "2025-01-12T09:47:36.041623Z"
    }
   },
   "cell_type": "code",
   "source": [
    "# 转成三维\n",
    "#最前面的是零轴，轴越小，越靠外，最小的轴是最外层\n",
    "# 0轴，1轴，2轴\n",
    "t2 = t.reshape((2, 3, 4))\n",
    "print(t2)\n",
    "print(t2.shape)\n",
    "print(t2.ndim)"
   ],
   "id": "174f01780569402f",
   "outputs": [
    {
     "name": "stdout",
     "output_type": "stream",
     "text": [
      "[[[ 0  1  2  3]\n",
      "  [ 4  5  6  7]\n",
      "  [ 8  9 10 11]]\n",
      "\n",
      " [[12 13 14 15]\n",
      "  [16 17 18 19]\n",
      "  [20 21 22 23]]]\n",
      "(2, 3, 4)\n",
      "3\n"
     ]
    }
   ],
   "execution_count": 20
  },
  {
   "metadata": {},
   "cell_type": "code",
   "outputs": [
    {
     "name": "stdout",
     "output_type": "stream",
     "text": [
      "[[[ 0  1  2  3]\n",
      "  [ 4  5  6  7]\n",
      "  [ 8  9 10 11]]\n",
      "\n",
      " [[12 13 14 15]\n",
      "  [16 17 18 19]\n",
      "  [20 21 22 23]]]\n",
      "(2, 3, 4)\n",
      "3\n",
      "[[[[ 0  1]\n",
      "   [ 2  3]]\n",
      "\n",
      "  [[ 4  5]\n",
      "   [ 6  7]]\n",
      "\n",
      "  [[ 8  9]\n",
      "   [10 11]]]\n",
      "\n",
      "\n",
      " [[[12 13]\n",
      "   [14 15]]\n",
      "\n",
      "  [[16 17]\n",
      "   [18 19]]\n",
      "\n",
      "  [[20 21]\n",
      "   [22 23]]]]\n",
      "(2, 3, 2, 2)\n",
      "4\n"
     ]
    }
   ],
   "execution_count": 19,
   "source": [
    "t3 = t.reshape((2, 3, 2, 2))\n",
    "print(t3)\n",
    "print(t3.shape)\n",
    "print(t3.ndim)"
   ],
   "id": "4d300a353a9b7527"
  }
 ],
 "metadata": {
  "kernelspec": {
   "display_name": "Python 3",
   "language": "python",
   "name": "python3"
  },
  "language_info": {
   "codemirror_mode": {
    "name": "ipython",
    "version": 2
   },
   "file_extension": ".py",
   "mimetype": "text/x-python",
   "name": "python",
   "nbconvert_exporter": "python",
   "pygments_lexer": "ipython2",
   "version": "2.7.6"
  }
 },
 "nbformat": 4,
 "nbformat_minor": 5
}
