{
 "cells": [
  {
   "metadata": {},
   "cell_type": "markdown",
   "source": "# 4、掌握numpy的数据类型，练习数组和数的运算，数组和数组的运算，理解数组的轴",
   "id": "6f78149182270f76"
  },
  {
   "metadata": {
    "ExecuteTime": {
     "end_time": "2025-01-12T09:49:36.256819Z",
     "start_time": "2025-01-12T09:49:36.182594Z"
    }
   },
   "cell_type": "code",
   "source": [
    "import random\n",
    "import numpy as np\n",
    "\n",
    "f = np.array([1, 2, 3, 4, 127], dtype=np.int8)  # 返回数组中每个元素的字节单位长度,dtype设置数据类型\n",
    "print(f.itemsize)  # 1 np.int16(一个字节)"
   ],
   "id": "68b8417d72234402",
   "outputs": [
    {
     "name": "stdout",
     "output_type": "stream",
     "text": [
      "1\n"
     ]
    }
   ],
   "execution_count": 2
  },
  {
   "metadata": {
    "ExecuteTime": {
     "end_time": "2025-01-12T09:49:47.939399Z",
     "start_time": "2025-01-12T09:49:47.931792Z"
    }
   },
   "cell_type": "code",
   "source": [
    "# 获取数据类型\n",
    "print(f.dtype)\n",
    "f[4] = f[4] + 1  #溢出\n",
    "f[4]"
   ],
   "id": "a89a47d8e21d141e",
   "outputs": [
    {
     "name": "stdout",
     "output_type": "stream",
     "text": [
      "int8\n"
     ]
    },
    {
     "name": "stderr",
     "output_type": "stream",
     "text": [
      "C:\\Users\\Lenovo\\AppData\\Local\\Temp\\ipykernel_24368\\3213386103.py:3: RuntimeWarning: overflow encountered in scalar add\n",
      "  f[4] = f[4] + 1  #溢出\n"
     ]
    },
    {
     "data": {
      "text/plain": [
       "np.int8(-128)"
      ]
     },
     "execution_count": 3,
     "metadata": {},
     "output_type": "execute_result"
    }
   ],
   "execution_count": 3
  },
  {
   "metadata": {
    "ExecuteTime": {
     "end_time": "2025-01-12T09:50:30.158508Z",
     "start_time": "2025-01-12T09:50:30.151644Z"
    }
   },
   "cell_type": "code",
   "source": [
    "# 调整数据类型\n",
    "f1 = f.astype(np.int64)\n",
    "print(f1.dtype)\n",
    "print(f1.itemsize)  #显示字节数\n",
    "print('-' * 50)\n",
    "random.random()  # 随机生成0-1之间的小数\n",
    "# 拓展随机生成小数\n",
    "# 使用python语法，保留两位\n",
    "print(round(random.random(), 2))\n",
    "# np.float16 半精度\n",
    "arr = np.array([random.random() for i in range(10)])\n",
    "print(arr)\n",
    "print(arr.itemsize)\n",
    "print(arr.dtype)\n",
    "# 取小数点后两位\n",
    "print(np.round(arr, 2))"
   ],
   "id": "690abbc9895e16e7",
   "outputs": [
    {
     "name": "stdout",
     "output_type": "stream",
     "text": [
      "int64\n",
      "8\n",
      "--------------------------------------------------\n",
      "0.78\n",
      "[0.82967382 0.79313531 0.88337592 0.08574245 0.59407333 0.12593714\n",
      " 0.57293903 0.55922627 0.78405135 0.34751975]\n",
      "8\n",
      "float64\n",
      "[0.83 0.79 0.88 0.09 0.59 0.13 0.57 0.56 0.78 0.35]\n"
     ]
    }
   ],
   "execution_count": 4
  }
 ],
 "metadata": {
  "kernelspec": {
   "display_name": "Python 3",
   "language": "python",
   "name": "python3"
  },
  "language_info": {
   "codemirror_mode": {
    "name": "ipython",
    "version": 2
   },
   "file_extension": ".py",
   "mimetype": "text/x-python",
   "name": "python",
   "nbconvert_exporter": "python",
   "pygments_lexer": "ipython2",
   "version": "2.7.6"
  }
 },
 "nbformat": 4,
 "nbformat_minor": 5
}
